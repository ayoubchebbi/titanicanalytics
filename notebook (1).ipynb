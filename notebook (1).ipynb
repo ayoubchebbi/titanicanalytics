{
  "cells": [
    {
      "metadata": {
        "_uuid": "8f2839f25d086af736a60e9eeb907d3b93b6e0e5",
        "_cell_guid": "b1076dfc-b9ad-4769-8c92-a6c4dae69d19",
        "trusted": true,
        "collapsed": true
      },
      "cell_type": "code",
      "source": "import pandas as pd\nimport seaborn as sns\nimport matplotlib.pyplot as plt\nimport numpy as np\nimport csv\nfrom subprocess import check_output\nfrom wordcloud import WordCloud, STOPWORDS\nfrom sklearn.tree import DecisionTreeClassifier\nfrom sklearn.externals.six import StringIO  \nfrom IPython.display import Image  \nfrom sklearn.tree import export_graphviz\nimport sklearn.datasets as datasets",
      "execution_count": 10,
      "outputs": []
    },
    {
      "metadata": {
        "trusted": true,
        "scrolled": true,
        "_uuid": "b569a7cb813b07dc603c8ef4b0d0a427a4471b27",
        "collapsed": true
      },
      "cell_type": "code",
      "source": "train = pd.read_csv('../input/train.csv')\ntrain.head()",
      "execution_count": 11,
      "outputs": []
    },
    {
      "metadata": {
        "trusted": true,
        "_uuid": "7ef4d7d84c93b5d7d25460737c553c35b4283ecf",
        "collapsed": true
      },
      "cell_type": "code",
      "source": "train.info()",
      "execution_count": 12,
      "outputs": []
    },
    {
      "metadata": {
        "trusted": true,
        "_uuid": "e44b1fae11d72c13abfe527ee0308d27fcd68337",
        "collapsed": true
      },
      "cell_type": "code",
      "source": "train.describe()",
      "execution_count": 13,
      "outputs": []
    },
    {
      "metadata": {
        "trusted": true,
        "_uuid": "2091d3c9b2134116ae051eddf15865580c634873",
        "collapsed": true
      },
      "cell_type": "code",
      "source": "plt.figure(figsize = (10,8))\ntrain.groupby('Pclass').PassengerId.count().plot(kind=\"bar\")\nplt.title(\"Average number passenger per class\")\nplt.show()",
      "execution_count": 14,
      "outputs": []
    },
    {
      "metadata": {
        "trusted": true,
        "_uuid": "74ccae8cf34e5436f84ed91a70786405c141383b",
        "collapsed": true
      },
      "cell_type": "code",
      "source": "plt.figure(figsize = (10,8))\ntrain.groupby('Survived').PassengerId.count().plot(kind=\"bar\")\nplt.title(\"Average number passenger per survived\")\nplt.show()",
      "execution_count": 15,
      "outputs": []
    },
    {
      "metadata": {
        "trusted": true,
        "_uuid": "f3bcfeaa19eedaf5b6273ccb1eee1cfe1553ac48",
        "collapsed": true
      },
      "cell_type": "code",
      "source": "plt.figure(figsize = (10,8))\ntrain.groupby('Sex').PassengerId.count().plot(kind=\"bar\")\nplt.title(\"Average number passenger per sex\")\nplt.show()",
      "execution_count": 17,
      "outputs": []
    },
    {
      "metadata": {
        "trusted": true,
        "_uuid": "644f14aabdc0457e17381c2ce41d46d17bc69c1c",
        "collapsed": true
      },
      "cell_type": "code",
      "source": "plt.figure(figsize = (10,8))\nsns.distplot(train.Fare)\nplt.title(\"Average fare\")\nplt.show()",
      "execution_count": 19,
      "outputs": []
    },
    {
      "metadata": {
        "trusted": true,
        "_uuid": "aaaa8eac177695f66f6460d72b28e69ad2f94816",
        "collapsed": true
      },
      "cell_type": "code",
      "source": "plt.figure(figsize = (10,8))\nsns.countplot(x='Pclass', data=train)\nplt.title(\"Average number passeger per class\")\nplt.show()",
      "execution_count": 20,
      "outputs": []
    },
    {
      "metadata": {
        "trusted": true,
        "_uuid": "6f6d6c504e066d6e4b0b428ee2b476389709bdb2",
        "collapsed": true
      },
      "cell_type": "code",
      "source": "plt.figure(figsize = (10,8))\nsns.countplot(x='Pclass',hue='Sex' ,data=train)\nplt.title(\"Average number survived per sex\")\nplt.show()",
      "execution_count": 22,
      "outputs": []
    },
    {
      "metadata": {
        "trusted": true,
        "_uuid": "f97e390bf32583e7fdbee8d7f3ceb0717baa7cee",
        "collapsed": true
      },
      "cell_type": "code",
      "source": "plt.figure(figsize = (10,8))\nsns.countplot(x='Survived',hue='Pclass' ,data=train)\nplt.show()",
      "execution_count": 24,
      "outputs": []
    },
    {
      "metadata": {
        "trusted": true,
        "_uuid": "179d3c71e5635fe083a3656ebd89650c1909be70",
        "collapsed": true
      },
      "cell_type": "code",
      "source": "plt.figure(figsize = (10,8))\nsns.kdeplot(train.Pclass, train.Survived)\nplt.show()",
      "execution_count": 26,
      "outputs": []
    },
    {
      "metadata": {
        "trusted": true,
        "_uuid": "f380484549215e3f925fc1182d5c182ee6e5565b",
        "collapsed": true
      },
      "cell_type": "code",
      "source": "plt.figure(figsize = (10,8))\nsns.jointplot(x='Age', y='Survived', data=train)\nplt.show()",
      "execution_count": 28,
      "outputs": []
    },
    {
      "metadata": {
        "trusted": true,
        "_uuid": "6a7a6107b198614bc90ad4ec015ae2f85fa0f1b5",
        "collapsed": true
      },
      "cell_type": "code",
      "source": "plt.figure(figsize = (10,8))\nsns.boxplot(data=train[['Age','SibSp','Parch','Fare']])\nplt.show()",
      "execution_count": 43,
      "outputs": []
    },
    {
      "metadata": {
        "trusted": true,
        "_uuid": "d4fb4a1d07f637b35a79f986f10bbeb979723b68",
        "collapsed": true
      },
      "cell_type": "code",
      "source": "sns.lmplot(x='Age', y='Fare', data=train,hue='Pclass' , size=15)",
      "execution_count": 51,
      "outputs": []
    },
    {
      "metadata": {
        "trusted": true,
        "_uuid": "886014fe9e379ad12f4474ca1af53e2ce050b4b3",
        "collapsed": true
      },
      "cell_type": "code",
      "source": "plt.figure(figsize = (10,8))\nsns.heatmap(train.corr(), annot=True )\nplt.show()",
      "execution_count": 13,
      "outputs": []
    },
    {
      "metadata": {
        "trusted": true,
        "_uuid": "ec10fed207d8afdbdcab353cdd18997644d0e431",
        "collapsed": true
      },
      "cell_type": "code",
      "source": "train.corr()",
      "execution_count": 14,
      "outputs": []
    },
    {
      "metadata": {
        "trusted": true,
        "_uuid": "131785c077281dd3bb3075520de13537a2d46402",
        "collapsed": true
      },
      "cell_type": "code",
      "source": "sns.lmplot(x='PassengerId', y='Fare', data=train,\n            # No regression line\n           hue='Pclass' , size=15)",
      "execution_count": 29,
      "outputs": []
    },
    {
      "metadata": {
        "trusted": true,
        "_uuid": "9f06bb99d0a5b3567adfd5f014671271c728a4cd",
        "collapsed": true
      },
      "cell_type": "code",
      "source": "var=train[['Age','SibSp','Parch','Fare']].var()\nprint('------------ variance ---------------')\nprint('')\nprint('Age   ',var['Age'],'      ',round(var['Age']*100/var.sum(),2),'%      ',round(var['Age']*100/var.sum(),2))\nprint('SibSp ',var['SibSp'],'    ',round(var['SibSp']*100/var.sum(),2),'%    ',round((var['Age']+var['SibSp'])*100/var.sum(),2))\nprint('Parch ',var['Parch'],'    ',round(var['Parch']*100/var.sum(),2),'%    ',round((var['Age']+var['SibSp']+var['Parch'])*100/var.sum(),2))\nprint('Fare  ',var['Fare'],'     ',round(var['Fare']*100/var.sum(),2),'%      100%',)\nlist=[100,\n    round((var['Age']+var['SibSp']+var['Parch'])*100/sum(var),2),\n        round((var['Age']+var['SibSp'])*100/sum(var),2),\n    round((var['Age'])*100/sum(var),2),0]",
      "execution_count": 30,
      "outputs": []
    },
    {
      "metadata": {
        "trusted": true,
        "_uuid": "20dc815c97fadcac4b8fbaf75c78fc270bd8b13b",
        "collapsed": true
      },
      "cell_type": "code",
      "source": "plt.figure(figsize = (10,8))\nplt.plot(list)\nplt.show()",
      "execution_count": 31,
      "outputs": []
    }
  ],
  "metadata": {
    "kernelspec": {
      "display_name": "Python 3",
      "language": "python",
      "name": "python3"
    },
    "language_info": {
      "name": "python",
      "version": "3.6.5",
      "mimetype": "text/x-python",
      "codemirror_mode": {
        "name": "ipython",
        "version": 3
      },
      "pygments_lexer": "ipython3",
      "nbconvert_exporter": "python",
      "file_extension": ".py"
    }
  },
  "nbformat": 4,
  "nbformat_minor": 1
}